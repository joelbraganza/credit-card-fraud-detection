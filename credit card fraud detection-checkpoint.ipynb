{
 "cells": [
  {
   "cell_type": "markdown",
   "metadata": {},
   "source": [
    "# Credit Card Fraud Detection - Classification"
   ]
  },
  {
   "cell_type": "markdown",
   "metadata": {},
   "source": [
    "Waiting for Tesla T4 GPU."
   ]
  },
  {
   "cell_type": "code",
   "execution_count": 1,
   "metadata": {
    "colab": {
     "base_uri": "https://localhost:8080/",
     "height": 372
    },
    "executionInfo": {
     "elapsed": 935,
     "status": "ok",
     "timestamp": 1603286431312,
     "user": {
      "displayName": "JOEL BRAGANZA",
      "photoUrl": "https://lh3.googleusercontent.com/a-/AOh14GiCqGBF0-DSW3pXhRCQksIWmS9Sn3pZ-f1QY6NjaA=s64",
      "userId": "05558119475177792340"
     },
     "user_tz": -330
    },
    "id": "i-_pYT_mNuLm",
    "outputId": "03250cfe-ea21-40cb-cd2d-f1e99f29609c"
   },
   "outputs": [
    {
     "name": "stdout",
     "output_type": "stream",
     "text": [
      "Wed Oct 21 13:20:30 2020       \n",
      "+-----------------------------------------------------------------------------+\n",
      "| NVIDIA-SMI 455.23.05    Driver Version: 418.67       CUDA Version: 10.1     |\n",
      "|-------------------------------+----------------------+----------------------+\n",
      "| GPU  Name        Persistence-M| Bus-Id        Disp.A | Volatile Uncorr. ECC |\n",
      "| Fan  Temp  Perf  Pwr:Usage/Cap|         Memory-Usage | GPU-Util  Compute M. |\n",
      "|                               |                      |               MIG M. |\n",
      "|===============================+======================+======================|\n",
      "|   0  Tesla T4            Off  | 00000000:00:04.0 Off |                    0 |\n",
      "| N/A   41C    P8    10W /  70W |      0MiB / 15079MiB |      0%      Default |\n",
      "|                               |                      |                 ERR! |\n",
      "+-------------------------------+----------------------+----------------------+\n",
      "                                                                               \n",
      "+-----------------------------------------------------------------------------+\n",
      "| Processes:                                                                  |\n",
      "|  GPU   GI   CI        PID   Type   Process name                  GPU Memory |\n",
      "|        ID   ID                                                   Usage      |\n",
      "|=============================================================================|\n",
      "|  No running processes found                                                 |\n",
      "+-----------------------------------------------------------------------------+\n"
     ]
    }
   ],
   "source": [
    "# firstly, change the runtime type to GPU\n",
    "# this line is to check which GPU you have been allocated\n",
    "!nvidia-smi\n",
    "# if you want a different GPU, do 'Factory Reset Runtime' and then run this commad again.\n",
    "# Tesla T4 is the best\n",
    "\n",
    "\n",
    "\n"
   ]
  },
  {
   "cell_type": "markdown",
   "metadata": {},
   "source": [
    "Mount the data so it's accessible."
   ]
  },
  {
   "cell_type": "code",
   "execution_count": 2,
   "metadata": {
    "colab": {
     "base_uri": "https://localhost:8080/",
     "height": 34
    },
    "executionInfo": {
     "elapsed": 19206,
     "status": "ok",
     "timestamp": 1603286455425,
     "user": {
      "displayName": "JOEL BRAGANZA",
      "photoUrl": "https://lh3.googleusercontent.com/a-/AOh14GiCqGBF0-DSW3pXhRCQksIWmS9Sn3pZ-f1QY6NjaA=s64",
      "userId": "05558119475177792340"
     },
     "user_tz": -330
    },
    "id": "c8EIG0RSQlGS",
    "outputId": "5981cf52-f552-4306-a404-02a7708ff62c"
   },
   "outputs": [
    {
     "name": "stdout",
     "output_type": "stream",
     "text": [
      "Mounted at ./mount\n"
     ]
    }
   ],
   "source": [
    "from google.colab import drive\n",
    "drive.mount('./mount')"
   ]
  },
  {
   "cell_type": "markdown",
   "metadata": {},
   "source": [
    "Load the necessary libraries."
   ]
  },
  {
   "cell_type": "code",
   "execution_count": 3,
   "metadata": {
    "executionInfo": {
     "elapsed": 1112,
     "status": "ok",
     "timestamp": 1603286457603,
     "user": {
      "displayName": "JOEL BRAGANZA",
      "photoUrl": "https://lh3.googleusercontent.com/a-/AOh14GiCqGBF0-DSW3pXhRCQksIWmS9Sn3pZ-f1QY6NjaA=s64",
      "userId": "05558119475177792340"
     },
     "user_tz": -330
    },
    "id": "H3VALT_FQ0CM"
   },
   "outputs": [],
   "source": [
    "import pandas as pd\n",
    "import numpy as np\n",
    "import os"
   ]
  },
  {
   "cell_type": "markdown",
   "metadata": {},
   "source": [
    "Load the data and have a look at it."
   ]
  },
  {
   "cell_type": "code",
   "execution_count": 4,
   "metadata": {
    "colab": {
     "base_uri": "https://localhost:8080/",
     "height": 385
    },
    "executionInfo": {
     "elapsed": 4242,
     "status": "ok",
     "timestamp": 1603286463887,
     "user": {
      "displayName": "JOEL BRAGANZA",
      "photoUrl": "https://lh3.googleusercontent.com/a-/AOh14GiCqGBF0-DSW3pXhRCQksIWmS9Sn3pZ-f1QY6NjaA=s64",
      "userId": "05558119475177792340"
     },
     "user_tz": -330
    },
    "id": "wzNSZZz9POQx",
    "outputId": "58df15bd-7e89-4d6f-958a-1e4370ed56dd"
   },
   "outputs": [
    {
     "name": "stdout",
     "output_type": "stream",
     "text": [
      "(284807, 31)\n"
     ]
    },
    {
     "data": {
      "text/html": [
       "<div>\n",
       "<style scoped>\n",
       "    .dataframe tbody tr th:only-of-type {\n",
       "        vertical-align: middle;\n",
       "    }\n",
       "\n",
       "    .dataframe tbody tr th {\n",
       "        vertical-align: top;\n",
       "    }\n",
       "\n",
       "    .dataframe thead th {\n",
       "        text-align: right;\n",
       "    }\n",
       "</style>\n",
       "<table border=\"1\" class=\"dataframe\">\n",
       "  <thead>\n",
       "    <tr style=\"text-align: right;\">\n",
       "      <th></th>\n",
       "      <th>Time</th>\n",
       "      <th>V1</th>\n",
       "      <th>V2</th>\n",
       "      <th>V3</th>\n",
       "      <th>V4</th>\n",
       "      <th>V5</th>\n",
       "      <th>V6</th>\n",
       "      <th>V7</th>\n",
       "      <th>V8</th>\n",
       "      <th>V9</th>\n",
       "      <th>V10</th>\n",
       "      <th>V11</th>\n",
       "      <th>V12</th>\n",
       "      <th>V13</th>\n",
       "      <th>V14</th>\n",
       "      <th>V15</th>\n",
       "      <th>V16</th>\n",
       "      <th>V17</th>\n",
       "      <th>V18</th>\n",
       "      <th>V19</th>\n",
       "      <th>V20</th>\n",
       "      <th>V21</th>\n",
       "      <th>V22</th>\n",
       "      <th>V23</th>\n",
       "      <th>V24</th>\n",
       "      <th>V25</th>\n",
       "      <th>V26</th>\n",
       "      <th>V27</th>\n",
       "      <th>V28</th>\n",
       "      <th>Amount</th>\n",
       "      <th>Class</th>\n",
       "    </tr>\n",
       "  </thead>\n",
       "  <tbody>\n",
       "    <tr>\n",
       "      <th>83533</th>\n",
       "      <td>59902.0</td>\n",
       "      <td>1.001351</td>\n",
       "      <td>-0.566204</td>\n",
       "      <td>1.452403</td>\n",
       "      <td>1.651096</td>\n",
       "      <td>-1.177130</td>\n",
       "      <td>0.870309</td>\n",
       "      <td>-1.000447</td>\n",
       "      <td>0.503626</td>\n",
       "      <td>1.540581</td>\n",
       "      <td>-0.191109</td>\n",
       "      <td>-0.259294</td>\n",
       "      <td>0.643181</td>\n",
       "      <td>-1.662533</td>\n",
       "      <td>-0.521667</td>\n",
       "      <td>-2.224988</td>\n",
       "      <td>-0.260553</td>\n",
       "      <td>0.084609</td>\n",
       "      <td>0.351499</td>\n",
       "      <td>0.696056</td>\n",
       "      <td>-0.159568</td>\n",
       "      <td>-0.146225</td>\n",
       "      <td>-0.127021</td>\n",
       "      <td>-0.120892</td>\n",
       "      <td>-0.006430</td>\n",
       "      <td>0.489474</td>\n",
       "      <td>-0.318588</td>\n",
       "      <td>0.077309</td>\n",
       "      <td>0.027105</td>\n",
       "      <td>49.80</td>\n",
       "      <td>0</td>\n",
       "    </tr>\n",
       "    <tr>\n",
       "      <th>37692</th>\n",
       "      <td>39065.0</td>\n",
       "      <td>-1.434123</td>\n",
       "      <td>0.126959</td>\n",
       "      <td>1.443860</td>\n",
       "      <td>-0.498100</td>\n",
       "      <td>0.685506</td>\n",
       "      <td>-0.558533</td>\n",
       "      <td>1.381490</td>\n",
       "      <td>-0.026542</td>\n",
       "      <td>-1.333894</td>\n",
       "      <td>-0.848829</td>\n",
       "      <td>1.853378</td>\n",
       "      <td>1.355820</td>\n",
       "      <td>0.863191</td>\n",
       "      <td>0.396657</td>\n",
       "      <td>-0.372615</td>\n",
       "      <td>-0.008933</td>\n",
       "      <td>-0.427013</td>\n",
       "      <td>-0.859183</td>\n",
       "      <td>-0.572624</td>\n",
       "      <td>0.445298</td>\n",
       "      <td>-0.088798</td>\n",
       "      <td>-0.789718</td>\n",
       "      <td>0.350410</td>\n",
       "      <td>0.208458</td>\n",
       "      <td>0.292194</td>\n",
       "      <td>0.045129</td>\n",
       "      <td>-0.103643</td>\n",
       "      <td>0.063628</td>\n",
       "      <td>169.95</td>\n",
       "      <td>0</td>\n",
       "    </tr>\n",
       "    <tr>\n",
       "      <th>260559</th>\n",
       "      <td>159616.0</td>\n",
       "      <td>-0.193482</td>\n",
       "      <td>1.045327</td>\n",
       "      <td>0.140502</td>\n",
       "      <td>-0.343942</td>\n",
       "      <td>0.982330</td>\n",
       "      <td>-0.682273</td>\n",
       "      <td>0.999155</td>\n",
       "      <td>-0.104958</td>\n",
       "      <td>-0.369678</td>\n",
       "      <td>-1.035547</td>\n",
       "      <td>-0.836867</td>\n",
       "      <td>-0.655620</td>\n",
       "      <td>-0.735922</td>\n",
       "      <td>-0.748772</td>\n",
       "      <td>0.152681</td>\n",
       "      <td>0.109261</td>\n",
       "      <td>0.638080</td>\n",
       "      <td>-0.003441</td>\n",
       "      <td>0.458025</td>\n",
       "      <td>-0.044366</td>\n",
       "      <td>-0.280946</td>\n",
       "      <td>-0.810698</td>\n",
       "      <td>-0.041733</td>\n",
       "      <td>0.557353</td>\n",
       "      <td>-0.465376</td>\n",
       "      <td>0.213192</td>\n",
       "      <td>0.093459</td>\n",
       "      <td>0.179630</td>\n",
       "      <td>1.29</td>\n",
       "      <td>0</td>\n",
       "    </tr>\n",
       "    <tr>\n",
       "      <th>36536</th>\n",
       "      <td>38581.0</td>\n",
       "      <td>1.090803</td>\n",
       "      <td>-0.352251</td>\n",
       "      <td>0.490238</td>\n",
       "      <td>0.239734</td>\n",
       "      <td>-0.393477</td>\n",
       "      <td>0.372414</td>\n",
       "      <td>-0.467513</td>\n",
       "      <td>0.150376</td>\n",
       "      <td>0.255762</td>\n",
       "      <td>0.017590</td>\n",
       "      <td>0.378508</td>\n",
       "      <td>0.688963</td>\n",
       "      <td>0.678053</td>\n",
       "      <td>0.051152</td>\n",
       "      <td>0.759863</td>\n",
       "      <td>1.190112</td>\n",
       "      <td>-1.264697</td>\n",
       "      <td>0.853600</td>\n",
       "      <td>0.326025</td>\n",
       "      <td>0.171810</td>\n",
       "      <td>0.028183</td>\n",
       "      <td>-0.113754</td>\n",
       "      <td>-0.175862</td>\n",
       "      <td>-0.787401</td>\n",
       "      <td>0.256689</td>\n",
       "      <td>0.435774</td>\n",
       "      <td>-0.026330</td>\n",
       "      <td>0.020576</td>\n",
       "      <td>93.85</td>\n",
       "      <td>0</td>\n",
       "    </tr>\n",
       "    <tr>\n",
       "      <th>22471</th>\n",
       "      <td>32263.0</td>\n",
       "      <td>1.191099</td>\n",
       "      <td>0.269365</td>\n",
       "      <td>0.254338</td>\n",
       "      <td>1.077254</td>\n",
       "      <td>-0.128173</td>\n",
       "      <td>-0.506338</td>\n",
       "      <td>0.117533</td>\n",
       "      <td>-0.071105</td>\n",
       "      <td>0.044777</td>\n",
       "      <td>-0.018561</td>\n",
       "      <td>-0.246484</td>\n",
       "      <td>0.040407</td>\n",
       "      <td>-0.460595</td>\n",
       "      <td>0.506083</td>\n",
       "      <td>1.220291</td>\n",
       "      <td>-0.222487</td>\n",
       "      <td>-0.122248</td>\n",
       "      <td>-0.546005</td>\n",
       "      <td>-0.727905</td>\n",
       "      <td>-0.193616</td>\n",
       "      <td>0.053144</td>\n",
       "      <td>0.202549</td>\n",
       "      <td>-0.068570</td>\n",
       "      <td>0.074743</td>\n",
       "      <td>0.598043</td>\n",
       "      <td>-0.297790</td>\n",
       "      <td>0.026402</td>\n",
       "      <td>0.016890</td>\n",
       "      <td>9.40</td>\n",
       "      <td>0</td>\n",
       "    </tr>\n",
       "    <tr>\n",
       "      <th>118783</th>\n",
       "      <td>75212.0</td>\n",
       "      <td>-0.463620</td>\n",
       "      <td>0.741109</td>\n",
       "      <td>0.504891</td>\n",
       "      <td>1.037345</td>\n",
       "      <td>1.624359</td>\n",
       "      <td>-0.917669</td>\n",
       "      <td>0.678031</td>\n",
       "      <td>-0.307220</td>\n",
       "      <td>-0.512733</td>\n",
       "      <td>-0.651183</td>\n",
       "      <td>-0.641285</td>\n",
       "      <td>-0.646085</td>\n",
       "      <td>0.305859</td>\n",
       "      <td>-1.653106</td>\n",
       "      <td>1.271791</td>\n",
       "      <td>0.358171</td>\n",
       "      <td>0.723969</td>\n",
       "      <td>1.092047</td>\n",
       "      <td>0.501335</td>\n",
       "      <td>0.300467</td>\n",
       "      <td>0.005204</td>\n",
       "      <td>0.113109</td>\n",
       "      <td>-0.241927</td>\n",
       "      <td>-0.579315</td>\n",
       "      <td>-0.140129</td>\n",
       "      <td>-0.311198</td>\n",
       "      <td>0.012475</td>\n",
       "      <td>-0.017907</td>\n",
       "      <td>1.00</td>\n",
       "      <td>0</td>\n",
       "    </tr>\n",
       "    <tr>\n",
       "      <th>2300</th>\n",
       "      <td>1842.0</td>\n",
       "      <td>-1.310747</td>\n",
       "      <td>-0.273254</td>\n",
       "      <td>1.690998</td>\n",
       "      <td>0.175184</td>\n",
       "      <td>1.164425</td>\n",
       "      <td>0.750260</td>\n",
       "      <td>-0.321262</td>\n",
       "      <td>0.663746</td>\n",
       "      <td>0.528378</td>\n",
       "      <td>-0.569684</td>\n",
       "      <td>-0.571644</td>\n",
       "      <td>0.123492</td>\n",
       "      <td>-1.395801</td>\n",
       "      <td>-0.195381</td>\n",
       "      <td>-1.668760</td>\n",
       "      <td>-0.115909</td>\n",
       "      <td>-0.359778</td>\n",
       "      <td>0.237315</td>\n",
       "      <td>-0.016930</td>\n",
       "      <td>0.151275</td>\n",
       "      <td>-0.066838</td>\n",
       "      <td>-0.145878</td>\n",
       "      <td>-0.288345</td>\n",
       "      <td>-1.180178</td>\n",
       "      <td>0.890792</td>\n",
       "      <td>-0.272857</td>\n",
       "      <td>0.220395</td>\n",
       "      <td>0.028883</td>\n",
       "      <td>22.30</td>\n",
       "      <td>0</td>\n",
       "    </tr>\n",
       "    <tr>\n",
       "      <th>189713</th>\n",
       "      <td>128528.0</td>\n",
       "      <td>-0.482777</td>\n",
       "      <td>1.551460</td>\n",
       "      <td>-0.344058</td>\n",
       "      <td>1.010695</td>\n",
       "      <td>0.585836</td>\n",
       "      <td>-0.841455</td>\n",
       "      <td>1.179646</td>\n",
       "      <td>0.095333</td>\n",
       "      <td>-0.925301</td>\n",
       "      <td>-0.257115</td>\n",
       "      <td>-1.132615</td>\n",
       "      <td>0.366703</td>\n",
       "      <td>0.385409</td>\n",
       "      <td>0.691430</td>\n",
       "      <td>-0.421550</td>\n",
       "      <td>-1.117187</td>\n",
       "      <td>0.328427</td>\n",
       "      <td>-0.393834</td>\n",
       "      <td>0.740851</td>\n",
       "      <td>0.019809</td>\n",
       "      <td>0.172995</td>\n",
       "      <td>0.702681</td>\n",
       "      <td>-0.201380</td>\n",
       "      <td>0.017428</td>\n",
       "      <td>0.077347</td>\n",
       "      <td>-0.375125</td>\n",
       "      <td>0.312480</td>\n",
       "      <td>0.183620</td>\n",
       "      <td>27.82</td>\n",
       "      <td>0</td>\n",
       "    </tr>\n",
       "    <tr>\n",
       "      <th>222053</th>\n",
       "      <td>142798.0</td>\n",
       "      <td>2.264716</td>\n",
       "      <td>-1.382673</td>\n",
       "      <td>-1.072049</td>\n",
       "      <td>-1.521337</td>\n",
       "      <td>-1.297445</td>\n",
       "      <td>-0.912291</td>\n",
       "      <td>-1.019203</td>\n",
       "      <td>-0.207973</td>\n",
       "      <td>-1.479029</td>\n",
       "      <td>1.800463</td>\n",
       "      <td>0.618848</td>\n",
       "      <td>-0.385697</td>\n",
       "      <td>-0.193736</td>\n",
       "      <td>-0.060424</td>\n",
       "      <td>-1.005601</td>\n",
       "      <td>-0.629065</td>\n",
       "      <td>0.390710</td>\n",
       "      <td>0.591179</td>\n",
       "      <td>0.020375</td>\n",
       "      <td>-0.471320</td>\n",
       "      <td>0.180862</td>\n",
       "      <td>1.058517</td>\n",
       "      <td>0.007280</td>\n",
       "      <td>0.105458</td>\n",
       "      <td>0.123617</td>\n",
       "      <td>0.158484</td>\n",
       "      <td>-0.007637</td>\n",
       "      <td>-0.071416</td>\n",
       "      <td>16.00</td>\n",
       "      <td>0</td>\n",
       "    </tr>\n",
       "    <tr>\n",
       "      <th>32902</th>\n",
       "      <td>37008.0</td>\n",
       "      <td>-0.817379</td>\n",
       "      <td>1.587288</td>\n",
       "      <td>1.172354</td>\n",
       "      <td>1.174415</td>\n",
       "      <td>-0.204886</td>\n",
       "      <td>-0.386129</td>\n",
       "      <td>0.303962</td>\n",
       "      <td>0.365480</td>\n",
       "      <td>-0.882656</td>\n",
       "      <td>-0.091435</td>\n",
       "      <td>0.054805</td>\n",
       "      <td>0.747007</td>\n",
       "      <td>1.116435</td>\n",
       "      <td>0.385451</td>\n",
       "      <td>1.310951</td>\n",
       "      <td>-0.680857</td>\n",
       "      <td>0.386241</td>\n",
       "      <td>-0.436995</td>\n",
       "      <td>0.119702</td>\n",
       "      <td>0.072618</td>\n",
       "      <td>0.261476</td>\n",
       "      <td>0.849651</td>\n",
       "      <td>-0.096178</td>\n",
       "      <td>0.437588</td>\n",
       "      <td>-0.201413</td>\n",
       "      <td>-0.205290</td>\n",
       "      <td>0.177598</td>\n",
       "      <td>0.154483</td>\n",
       "      <td>1.00</td>\n",
       "      <td>0</td>\n",
       "    </tr>\n",
       "  </tbody>\n",
       "</table>\n",
       "</div>"
      ],
      "text/plain": [
       "            Time        V1        V2  ...       V28  Amount  Class\n",
       "83533    59902.0  1.001351 -0.566204  ...  0.027105   49.80      0\n",
       "37692    39065.0 -1.434123  0.126959  ...  0.063628  169.95      0\n",
       "260559  159616.0 -0.193482  1.045327  ...  0.179630    1.29      0\n",
       "36536    38581.0  1.090803 -0.352251  ...  0.020576   93.85      0\n",
       "22471    32263.0  1.191099  0.269365  ...  0.016890    9.40      0\n",
       "118783   75212.0 -0.463620  0.741109  ... -0.017907    1.00      0\n",
       "2300      1842.0 -1.310747 -0.273254  ...  0.028883   22.30      0\n",
       "189713  128528.0 -0.482777  1.551460  ...  0.183620   27.82      0\n",
       "222053  142798.0  2.264716 -1.382673  ... -0.071416   16.00      0\n",
       "32902    37008.0 -0.817379  1.587288  ...  0.154483    1.00      0\n",
       "\n",
       "[10 rows x 31 columns]"
      ]
     },
     "execution_count": 4,
     "metadata": {
      "tags": []
     },
     "output_type": "execute_result"
    }
   ],
   "source": [
    "# https://www.kaggle.com/mlg-ulb/creditcardfraud\n",
    "df= pd.read_csv(r'mount/My Drive/credit card fraud detection/creditcard.csv')\n",
    "#df = pd.read_csv(os.path.join(r'D:\\joel\\UDEMY -\\datasets and codes\\Notebooks\\.ipynb_checkpoints\\credit card fraud detection','creditcard.csv'))\n",
    "#df = df.sample(frac=0.5) # taking only half, 100000+ observations\n",
    "print (df.shape) \n",
    "df.sample(10) \n",
    "# the data is 284k+ with 31 variables."
   ]
  },
  {
   "cell_type": "markdown",
   "metadata": {},
   "source": [
    "All variables except time have been kept anonymous-named, maybe even normalized/encrypted for security reasons, let's first observe the column types"
   ]
  },
  {
   "cell_type": "code",
   "execution_count": 5,
   "metadata": {
    "colab": {
     "base_uri": "https://localhost:8080/",
     "height": 585
    },
    "executionInfo": {
     "elapsed": 958,
     "status": "ok",
     "timestamp": 1603286467738,
     "user": {
      "displayName": "JOEL BRAGANZA",
      "photoUrl": "https://lh3.googleusercontent.com/a-/AOh14GiCqGBF0-DSW3pXhRCQksIWmS9Sn3pZ-f1QY6NjaA=s64",
      "userId": "05558119475177792340"
     },
     "user_tz": -330
    },
    "id": "J4KKOP-pNuLv",
    "outputId": "36ca7693-2229-4d03-e0ae-f8373c8212c1"
   },
   "outputs": [
    {
     "data": {
      "text/plain": [
       "Time      float64\n",
       "V1        float64\n",
       "V2        float64\n",
       "V3        float64\n",
       "V4        float64\n",
       "V5        float64\n",
       "V6        float64\n",
       "V7        float64\n",
       "V8        float64\n",
       "V9        float64\n",
       "V10       float64\n",
       "V11       float64\n",
       "V12       float64\n",
       "V13       float64\n",
       "V14       float64\n",
       "V15       float64\n",
       "V16       float64\n",
       "V17       float64\n",
       "V18       float64\n",
       "V19       float64\n",
       "V20       float64\n",
       "V21       float64\n",
       "V22       float64\n",
       "V23       float64\n",
       "V24       float64\n",
       "V25       float64\n",
       "V26       float64\n",
       "V27       float64\n",
       "V28       float64\n",
       "Amount    float64\n",
       "Class       int64\n",
       "dtype: object"
      ]
     },
     "execution_count": 5,
     "metadata": {
      "tags": []
     },
     "output_type": "execute_result"
    }
   ],
   "source": [
    "df.dtypes"
   ]
  },
  {
   "cell_type": "markdown",
   "metadata": {},
   "source": [
    "All are float64 values"
   ]
  },
  {
   "cell_type": "markdown",
   "metadata": {},
   "source": [
    "Let's see what are the proportions of either 'fraud: 1' or 'normal: 0' transaction"
   ]
  },
  {
   "cell_type": "code",
   "execution_count": 6,
   "metadata": {
    "colab": {
     "base_uri": "https://localhost:8080/",
     "height": 105
    },
    "executionInfo": {
     "elapsed": 1203,
     "status": "ok",
     "timestamp": 1603286472119,
     "user": {
      "displayName": "JOEL BRAGANZA",
      "photoUrl": "https://lh3.googleusercontent.com/a-/AOh14GiCqGBF0-DSW3pXhRCQksIWmS9Sn3pZ-f1QY6NjaA=s64",
      "userId": "05558119475177792340"
     },
     "user_tz": -330
    },
    "id": "HHihcFkONuLz",
    "outputId": "b54c16c4-1626-4205-9a9d-98057ed35024"
   },
   "outputs": [
    {
     "name": "stdout",
     "output_type": "stream",
     "text": [
      "0    284315\n",
      "1       492\n",
      "Name: Class, dtype: int64\n",
      "Normal transactions 0:  0.9982725143693799  %\n",
      "Fraud transactions 1:  0.001727485630620034  %\n"
     ]
    }
   ],
   "source": [
    "print (df['Class'].value_counts())\n",
    "zero = df['Class'].value_counts()[0]\n",
    "one = df['Class'].value_counts()[1]\n",
    "total = df.shape[0]\n",
    "zero_count = zero/total\n",
    "print ('Normal transactions 0: ',zero_count,' %')\n",
    "one_count = one/total\n",
    "print ('Fraud transactions 1: ',one_count,' %')"
   ]
  },
  {
   "cell_type": "markdown",
   "metadata": {},
   "source": [
    "We can see very high chances of predicting - regular '0' transaction and less than 1 % for fraud transactions '1' <br>\n",
    "here we need to understand what is our priority, obviously we want perfect classification <br>\n",
    "but we can't let true transactions be classified as Fraud (FP- False Positive) <br>\n",
    "also, we can't let fraud transactions be classified as True (FN - False Negative) <br>\n",
    "we'll use the SMOTE algorithm to balance the dataset <br>"
   ]
  },
  {
   "cell_type": "markdown",
   "metadata": {},
   "source": [
    "Let's check for missing values."
   ]
  },
  {
   "cell_type": "code",
   "execution_count": 7,
   "metadata": {
    "colab": {
     "base_uri": "https://localhost:8080/",
     "height": 585
    },
    "executionInfo": {
     "elapsed": 989,
     "status": "ok",
     "timestamp": 1603286476713,
     "user": {
      "displayName": "JOEL BRAGANZA",
      "photoUrl": "https://lh3.googleusercontent.com/a-/AOh14GiCqGBF0-DSW3pXhRCQksIWmS9Sn3pZ-f1QY6NjaA=s64",
      "userId": "05558119475177792340"
     },
     "user_tz": -330
    },
    "id": "nl_QLAK8NuL4",
    "outputId": "da2a4191-ae79-4485-942c-adcb1358fd1b"
   },
   "outputs": [
    {
     "data": {
      "text/plain": [
       "Time      0.0\n",
       "V1        0.0\n",
       "V2        0.0\n",
       "V3        0.0\n",
       "V4        0.0\n",
       "V5        0.0\n",
       "V6        0.0\n",
       "V7        0.0\n",
       "V8        0.0\n",
       "V9        0.0\n",
       "V10       0.0\n",
       "V11       0.0\n",
       "V12       0.0\n",
       "V13       0.0\n",
       "V14       0.0\n",
       "V15       0.0\n",
       "V16       0.0\n",
       "V17       0.0\n",
       "V18       0.0\n",
       "V19       0.0\n",
       "V20       0.0\n",
       "V21       0.0\n",
       "V22       0.0\n",
       "V23       0.0\n",
       "V24       0.0\n",
       "V25       0.0\n",
       "V26       0.0\n",
       "V27       0.0\n",
       "V28       0.0\n",
       "Amount    0.0\n",
       "Class     0.0\n",
       "dtype: float64"
      ]
     },
     "execution_count": 7,
     "metadata": {
      "tags": []
     },
     "output_type": "execute_result"
    }
   ],
   "source": [
    "(df.isnull().sum()/df.shape[0])*100 "
   ]
  },
  {
   "cell_type": "markdown",
   "metadata": {},
   "source": [
    "No missing values"
   ]
  },
  {
   "cell_type": "markdown",
   "metadata": {},
   "source": [
    "Let's work on removing outliers busing 'Pearson's' method"
   ]
  },
  {
   "cell_type": "code",
   "execution_count": 8,
   "metadata": {
    "colab": {
     "base_uri": "https://localhost:8080/",
     "height": 585
    },
    "executionInfo": {
     "elapsed": 1045,
     "status": "ok",
     "timestamp": 1603286480203,
     "user": {
      "displayName": "JOEL BRAGANZA",
      "photoUrl": "https://lh3.googleusercontent.com/a-/AOh14GiCqGBF0-DSW3pXhRCQksIWmS9Sn3pZ-f1QY6NjaA=s64",
      "userId": "05558119475177792340"
     },
     "user_tz": -330
    },
    "id": "BVdnkYOVNuL9",
    "outputId": "4753bf0b-ca76-40c2-953f-18060ce17d58"
   },
   "outputs": [
    {
     "name": "stdout",
     "output_type": "stream",
     "text": [
      "Time       0.000000\n",
      "V1         2.479574\n",
      "V2         4.749181\n",
      "V3         1.180800\n",
      "V4         3.914230\n",
      "V5         4.316959\n",
      "V6         8.063355\n",
      "V7         3.141777\n",
      "V8         8.473809\n",
      "V9         2.908285\n",
      "V10        3.334188\n",
      "V11        0.273870\n",
      "V12        5.388912\n",
      "V13        1.182555\n",
      "V14        4.967926\n",
      "V15        1.016127\n",
      "V16        2.873525\n",
      "V17        2.605273\n",
      "V18        2.644949\n",
      "V19        3.583128\n",
      "V20        9.750463\n",
      "V21        5.090114\n",
      "V22        0.462418\n",
      "V23        6.510023\n",
      "V24        1.676223\n",
      "V25        1.884434\n",
      "V26        1.964839\n",
      "V27       13.750715\n",
      "V28       10.653530\n",
      "Amount    11.201972\n",
      "Class      0.000000\n",
      "dtype: float64\n"
     ]
    }
   ],
   "source": [
    "for i in df.columns[:-1]:\n",
    "    q25,q75 = np.percentile(df[i],[25,75])\n",
    "    iqr = q75-q25\n",
    "    maximum = q75+(iqr*1.5)\n",
    "    minimum = q25- (iqr*1.5)\n",
    "    df.loc[df[i]>maximum,i]=np.NaN\n",
    "    df.loc[df[i]<minimum,i]=np.NaN\n",
    "    \n",
    "print (((df.isnull().sum())/df.shape[0])*100)    # check if any missing values after outlier removal"
   ]
  },
  {
   "cell_type": "markdown",
   "metadata": {},
   "source": [
    "All variables execpt 'Time' have missing values after outlier removal"
   ]
  },
  {
   "cell_type": "markdown",
   "metadata": {},
   "source": [
    "As we can see, there is a percentage of outliers removed, creating gaps of missing values let's impute them with median values."
   ]
  },
  {
   "cell_type": "code",
   "execution_count": 9,
   "metadata": {
    "colab": {
     "base_uri": "https://localhost:8080/",
     "height": 585
    },
    "executionInfo": {
     "elapsed": 951,
     "status": "ok",
     "timestamp": 1603286485034,
     "user": {
      "displayName": "JOEL BRAGANZA",
      "photoUrl": "https://lh3.googleusercontent.com/a-/AOh14GiCqGBF0-DSW3pXhRCQksIWmS9Sn3pZ-f1QY6NjaA=s64",
      "userId": "05558119475177792340"
     },
     "user_tz": -330
    },
    "id": "BtvU-gw_NuMC",
    "outputId": "7ae580a1-f00d-4be9-bba3-86d9dc2b69f2"
   },
   "outputs": [
    {
     "name": "stdout",
     "output_type": "stream",
     "text": [
      "Time      0.0\n",
      "V1        0.0\n",
      "V2        0.0\n",
      "V3        0.0\n",
      "V4        0.0\n",
      "V5        0.0\n",
      "V6        0.0\n",
      "V7        0.0\n",
      "V8        0.0\n",
      "V9        0.0\n",
      "V10       0.0\n",
      "V11       0.0\n",
      "V12       0.0\n",
      "V13       0.0\n",
      "V14       0.0\n",
      "V15       0.0\n",
      "V16       0.0\n",
      "V17       0.0\n",
      "V18       0.0\n",
      "V19       0.0\n",
      "V20       0.0\n",
      "V21       0.0\n",
      "V22       0.0\n",
      "V23       0.0\n",
      "V24       0.0\n",
      "V25       0.0\n",
      "V26       0.0\n",
      "V27       0.0\n",
      "V28       0.0\n",
      "Amount    0.0\n",
      "Class     0.0\n",
      "dtype: float64\n"
     ]
    }
   ],
   "source": [
    "for i in df.columns[:-1]:\n",
    "    df[i] = df[i].fillna(df[i].median())\n",
    "print (((df.isnull().sum())/df.shape[0])*100)    # check if any missing values after imputation"
   ]
  },
  {
   "cell_type": "markdown",
   "metadata": {},
   "source": [
    "Let's check if the continuous variables data we have is normalized or not."
   ]
  },
  {
   "cell_type": "code",
   "execution_count": 10,
   "metadata": {
    "colab": {
     "base_uri": "https://localhost:8080/",
     "height": 72
    },
    "executionInfo": {
     "elapsed": 2358,
     "status": "ok",
     "timestamp": 1603286490145,
     "user": {
      "displayName": "JOEL BRAGANZA",
      "photoUrl": "https://lh3.googleusercontent.com/a-/AOh14GiCqGBF0-DSW3pXhRCQksIWmS9Sn3pZ-f1QY6NjaA=s64",
      "userId": "05558119475177792340"
     },
     "user_tz": -330
    },
    "id": "sAASTKp-NuMH",
    "outputId": "dc11ca9a-9019-45a7-aba3-567ced95e83f"
   },
   "outputs": [
    {
     "name": "stdout",
     "output_type": "stream",
     "text": [
      "normal variables: []\n",
      "not-normal:  ['Time', 'V1', 'V2', 'V3', 'V4', 'V5', 'V6', 'V7', 'V8', 'V9', 'V10', 'V11', 'V12', 'V13', 'V14', 'V15', 'V16', 'V17', 'V18', 'V19', 'V20', 'V21', 'V22', 'V23', 'V24', 'V25', 'V26', 'V27', 'V28', 'Amount']\n"
     ]
    }
   ],
   "source": [
    "not_normal=[]\n",
    "normal =[]\n",
    "\n",
    "for i in df.columns[:-1]:\n",
    "    maximum = max(df[i])\n",
    "    minimum = min(df[i])\n",
    "    if maximum<=1 and minimum>=0:\n",
    "        normal.append[i]\n",
    "    else:\n",
    "        not_normal.append(i)\n",
    "        \n",
    "print ('normal variables:', normal)\n",
    "print ('not-normal: ',not_normal)                "
   ]
  },
  {
   "cell_type": "markdown",
   "metadata": {},
   "source": [
    "Let's have some visualizations for the distribution of data."
   ]
  },
  {
   "cell_type": "markdown",
   "metadata": {},
   "source": [
    "### Data Visualization"
   ]
  },
  {
   "cell_type": "code",
   "execution_count": null,
   "metadata": {
    "id": "uWN6IhvENuMQ"
   },
   "outputs": [],
   "source": [
    "from matplotlib import pyplot as plt\n",
    "\n",
    "import seaborn as sns\n",
    "\n",
    "for i in df.columns[:-1]:\n",
    "    print (i)\n",
    "    sns.distplot(df[i])\n",
    "    plt.axvline(df[i].median(),color='b') # the median line\n",
    "    plt.axvline(df[i].mean(),color='r') # mean line\n",
    "    plt.axvline((df[i].median()-np.std(df[i])),color='g') # 1st standard deviation\n",
    "    plt.axvline((df[i].median()+np.std(df[i])),color='g') # 1st standard deviation\n",
    "    plt.axvline(2*(df[i].median()-np.std(df[i])),color='g') # 2nd standard deviation\n",
    "    plt.axvline(2*(df[i].median()+np.std(df[i])),color='g') # 2nd standard deviation\n",
    "    plt.show()\n",
    "    print ('\\n')"
   ]
  },
  {
   "cell_type": "markdown",
   "metadata": {},
   "source": [
    "Most of the variables from time to v28 seem to be normaly distributed with many whose mean and median coinciding except for the 'Amount' variable\n"
   ]
  },
  {
   "cell_type": "markdown",
   "metadata": {},
   "source": [
    "Let's normalize the data now for further analysis"
   ]
  },
  {
   "cell_type": "code",
   "execution_count": 11,
   "metadata": {
    "colab": {
     "base_uri": "https://localhost:8080/",
     "height": 691
    },
    "executionInfo": {
     "elapsed": 4030,
     "status": "ok",
     "timestamp": 1603286498058,
     "user": {
      "displayName": "JOEL BRAGANZA",
      "photoUrl": "https://lh3.googleusercontent.com/a-/AOh14GiCqGBF0-DSW3pXhRCQksIWmS9Sn3pZ-f1QY6NjaA=s64",
      "userId": "05558119475177792340"
     },
     "user_tz": -330
    },
    "id": "HT9psdInNuMh",
    "outputId": "7262824c-ce05-451e-b8a7-0a6976e333b3"
   },
   "outputs": [
    {
     "name": "stdout",
     "output_type": "stream",
     "text": [
      "Time max:  1.0  min:  0.0\n",
      "V1 max:  1.0  min:  0.0\n",
      "V2 max:  1.0  min:  0.0\n",
      "V3 max:  1.0  min:  0.0\n",
      "V4 max:  1.0  min:  0.0\n",
      "V5 max:  1.0  min:  0.0\n",
      "V6 max:  1.0  min:  0.0\n",
      "V7 max:  1.0  min:  0.0\n",
      "V8 max:  1.0  min:  0.0\n",
      "V9 max:  1.0  min:  0.0\n",
      "V10 max:  1.0  min:  0.0\n",
      "V11 max:  1.0  min:  0.0\n",
      "V12 max:  1.0  min:  0.0\n",
      "V13 max:  1.0  min:  0.0\n",
      "V14 max:  1.0  min:  0.0\n",
      "V15 max:  1.0  min:  0.0\n",
      "V16 max:  1.0  min:  0.0\n",
      "V17 max:  1.0  min:  0.0\n",
      "V18 max:  1.0  min:  0.0\n",
      "V19 max:  1.0  min:  0.0\n",
      "V20 max:  1.0  min:  0.0\n",
      "V21 max:  1.0  min:  0.0\n",
      "V22 max:  1.0  min:  0.0\n",
      "V23 max:  1.0  min:  0.0\n",
      "V24 max:  1.0  min:  0.0\n",
      "V25 max:  1.0  min:  0.0\n",
      "V26 max:  1.0  min:  0.0\n",
      "V27 max:  1.0  min:  0.0\n",
      "V28 max:  1.0  min:  0.0\n",
      "Amount max:  1.0  min:  0.0\n"
     ]
    },
    {
     "data": {
      "text/html": [
       "<div>\n",
       "<style scoped>\n",
       "    .dataframe tbody tr th:only-of-type {\n",
       "        vertical-align: middle;\n",
       "    }\n",
       "\n",
       "    .dataframe tbody tr th {\n",
       "        vertical-align: top;\n",
       "    }\n",
       "\n",
       "    .dataframe thead th {\n",
       "        text-align: right;\n",
       "    }\n",
       "</style>\n",
       "<table border=\"1\" class=\"dataframe\">\n",
       "  <thead>\n",
       "    <tr style=\"text-align: right;\">\n",
       "      <th></th>\n",
       "      <th>Time</th>\n",
       "      <th>V1</th>\n",
       "      <th>V2</th>\n",
       "      <th>V3</th>\n",
       "      <th>V4</th>\n",
       "      <th>V5</th>\n",
       "      <th>V6</th>\n",
       "      <th>V7</th>\n",
       "      <th>V8</th>\n",
       "      <th>V9</th>\n",
       "      <th>V10</th>\n",
       "      <th>V11</th>\n",
       "      <th>V12</th>\n",
       "      <th>V13</th>\n",
       "      <th>V14</th>\n",
       "      <th>V15</th>\n",
       "      <th>V16</th>\n",
       "      <th>V17</th>\n",
       "      <th>V18</th>\n",
       "      <th>V19</th>\n",
       "      <th>V20</th>\n",
       "      <th>V21</th>\n",
       "      <th>V22</th>\n",
       "      <th>V23</th>\n",
       "      <th>V24</th>\n",
       "      <th>V25</th>\n",
       "      <th>V26</th>\n",
       "      <th>V27</th>\n",
       "      <th>V28</th>\n",
       "      <th>Amount</th>\n",
       "      <th>Class</th>\n",
       "    </tr>\n",
       "  </thead>\n",
       "  <tbody>\n",
       "    <tr>\n",
       "      <th>196018</th>\n",
       "      <td>0.760006</td>\n",
       "      <td>0.967955</td>\n",
       "      <td>0.331505</td>\n",
       "      <td>0.117077</td>\n",
       "      <td>0.186302</td>\n",
       "      <td>0.903866</td>\n",
       "      <td>0.466254</td>\n",
       "      <td>0.325447</td>\n",
       "      <td>0.775754</td>\n",
       "      <td>0.332923</td>\n",
       "      <td>0.733538</td>\n",
       "      <td>0.544059</td>\n",
       "      <td>0.348835</td>\n",
       "      <td>0.498060</td>\n",
       "      <td>0.586450</td>\n",
       "      <td>0.625611</td>\n",
       "      <td>0.688656</td>\n",
       "      <td>0.544669</td>\n",
       "      <td>0.023984</td>\n",
       "      <td>0.648695</td>\n",
       "      <td>0.539920</td>\n",
       "      <td>0.537828</td>\n",
       "      <td>0.496577</td>\n",
       "      <td>0.718882</td>\n",
       "      <td>0.708247</td>\n",
       "      <td>0.484599</td>\n",
       "      <td>0.390069</td>\n",
       "      <td>0.443169</td>\n",
       "      <td>0.341545</td>\n",
       "      <td>0.013875</td>\n",
       "      <td>0</td>\n",
       "    </tr>\n",
       "    <tr>\n",
       "      <th>34659</th>\n",
       "      <td>0.218587</td>\n",
       "      <td>0.793609</td>\n",
       "      <td>0.468662</td>\n",
       "      <td>0.588898</td>\n",
       "      <td>0.624179</td>\n",
       "      <td>0.419940</td>\n",
       "      <td>0.551129</td>\n",
       "      <td>0.455011</td>\n",
       "      <td>0.528450</td>\n",
       "      <td>0.529911</td>\n",
       "      <td>0.479358</td>\n",
       "      <td>0.767358</td>\n",
       "      <td>0.907491</td>\n",
       "      <td>0.625057</td>\n",
       "      <td>0.480863</td>\n",
       "      <td>0.353466</td>\n",
       "      <td>0.397988</td>\n",
       "      <td>0.526811</td>\n",
       "      <td>0.289420</td>\n",
       "      <td>0.516002</td>\n",
       "      <td>0.504429</td>\n",
       "      <td>0.404974</td>\n",
       "      <td>0.414021</td>\n",
       "      <td>0.573097</td>\n",
       "      <td>0.570972</td>\n",
       "      <td>0.577527</td>\n",
       "      <td>0.595800</td>\n",
       "      <td>0.480635</td>\n",
       "      <td>0.499525</td>\n",
       "      <td>0.194851</td>\n",
       "      <td>0</td>\n",
       "    </tr>\n",
       "    <tr>\n",
       "      <th>210246</th>\n",
       "      <td>0.798058</td>\n",
       "      <td>0.922993</td>\n",
       "      <td>0.318514</td>\n",
       "      <td>0.419416</td>\n",
       "      <td>0.384912</td>\n",
       "      <td>0.342031</td>\n",
       "      <td>0.503675</td>\n",
       "      <td>0.299481</td>\n",
       "      <td>0.553952</td>\n",
       "      <td>0.838659</td>\n",
       "      <td>0.445191</td>\n",
       "      <td>0.614004</td>\n",
       "      <td>0.628339</td>\n",
       "      <td>0.318161</td>\n",
       "      <td>0.527329</td>\n",
       "      <td>0.516307</td>\n",
       "      <td>0.563605</td>\n",
       "      <td>0.358434</td>\n",
       "      <td>0.673012</td>\n",
       "      <td>0.628680</td>\n",
       "      <td>0.433521</td>\n",
       "      <td>0.673687</td>\n",
       "      <td>0.700078</td>\n",
       "      <td>0.614653</td>\n",
       "      <td>0.749296</td>\n",
       "      <td>0.379222</td>\n",
       "      <td>0.844367</td>\n",
       "      <td>0.405472</td>\n",
       "      <td>0.375292</td>\n",
       "      <td>0.216260</td>\n",
       "      <td>0</td>\n",
       "    </tr>\n",
       "  </tbody>\n",
       "</table>\n",
       "</div>"
      ],
      "text/plain": [
       "            Time        V1        V2  ...       V28    Amount  Class\n",
       "196018  0.760006  0.967955  0.331505  ...  0.341545  0.013875      0\n",
       "34659   0.218587  0.793609  0.468662  ...  0.499525  0.194851      0\n",
       "210246  0.798058  0.922993  0.318514  ...  0.375292  0.216260      0\n",
       "\n",
       "[3 rows x 31 columns]"
      ]
     },
     "execution_count": 11,
     "metadata": {
      "tags": []
     },
     "output_type": "execute_result"
    }
   ],
   "source": [
    "\n",
    "for i in not_normal:\n",
    "    df[i] = (df[i]-min(df[i]))/(max(df[i])-min(df[i]))\n",
    "    print (i, 'max: ',max(df[i]),' min: ',min(df[i]))\n",
    "    \n",
    "df.sample(3)    "
   ]
  },
  {
   "cell_type": "markdown",
   "metadata": {},
   "source": [
    "Split the data into independent & dependent."
   ]
  },
  {
   "cell_type": "code",
   "execution_count": 12,
   "metadata": {
    "colab": {
     "base_uri": "https://localhost:8080/",
     "height": 34
    },
    "executionInfo": {
     "elapsed": 1087,
     "status": "ok",
     "timestamp": 1603286500234,
     "user": {
      "displayName": "JOEL BRAGANZA",
      "photoUrl": "https://lh3.googleusercontent.com/a-/AOh14GiCqGBF0-DSW3pXhRCQksIWmS9Sn3pZ-f1QY6NjaA=s64",
      "userId": "05558119475177792340"
     },
     "user_tz": -330
    },
    "id": "jQYBs763NuMm",
    "outputId": "b14ee4f0-7fa1-4a0d-8731-5a445b6971a3"
   },
   "outputs": [
    {
     "name": "stdout",
     "output_type": "stream",
     "text": [
      "(284807, 30) (284807,)\n"
     ]
    }
   ],
   "source": [
    "X = df.drop('Class',axis=1)\n",
    "y = df['Class']\n",
    "print (X.shape,y.shape)"
   ]
  },
  {
   "cell_type": "markdown",
   "metadata": {},
   "source": [
    "Split the data into train & test."
   ]
  },
  {
   "cell_type": "markdown",
   "metadata": {},
   "source": [
    "Let's split the data into train & test before oversampling the training data."
   ]
  },
  {
   "cell_type": "code",
   "execution_count": 13,
   "metadata": {
    "colab": {
     "base_uri": "https://localhost:8080/",
     "height": 34
    },
    "executionInfo": {
     "elapsed": 1178,
     "status": "ok",
     "timestamp": 1603286504773,
     "user": {
      "displayName": "JOEL BRAGANZA",
      "photoUrl": "https://lh3.googleusercontent.com/a-/AOh14GiCqGBF0-DSW3pXhRCQksIWmS9Sn3pZ-f1QY6NjaA=s64",
      "userId": "05558119475177792340"
     },
     "user_tz": -330
    },
    "id": "-5h3P3jaaklz",
    "outputId": "366ce5fb-7674-447b-e754-bdedb466b72e"
   },
   "outputs": [
    {
     "name": "stdout",
     "output_type": "stream",
     "text": [
      "Counter({0: 85298, 1: 145})\n"
     ]
    }
   ],
   "source": [
    "from sklearn.model_selection import train_test_split\n",
    "from collections import Counter\n",
    "\n",
    "# \n",
    "X_train,X_test,y_train,y_test=train_test_split(X,y,train_size=0.7)\n",
    "print (Counter(y_test.values)) "
   ]
  },
  {
   "cell_type": "markdown",
   "metadata": {},
   "source": [
    "We can see in the test-target values, 1 is low in quantity."
   ]
  },
  {
   "cell_type": "markdown",
   "metadata": {},
   "source": [
    "Let's see that the models we make over the oversampled training data perform well on the test data or not."
   ]
  },
  {
   "cell_type": "code",
   "execution_count": 14,
   "metadata": {
    "colab": {
     "base_uri": "https://localhost:8080/",
     "height": 107
    },
    "executionInfo": {
     "elapsed": 1239,
     "status": "ok",
     "timestamp": 1603286509026,
     "user": {
      "displayName": "JOEL BRAGANZA",
      "photoUrl": "https://lh3.googleusercontent.com/a-/AOh14GiCqGBF0-DSW3pXhRCQksIWmS9Sn3pZ-f1QY6NjaA=s64",
      "userId": "05558119475177792340"
     },
     "user_tz": -330
    },
    "id": "87VEKtxMMT2x",
    "outputId": "f72adc52-95c5-48b9-de08-195750542672"
   },
   "outputs": [
    {
     "name": "stderr",
     "output_type": "stream",
     "text": [
      "/usr/local/lib/python3.6/dist-packages/sklearn/externals/six.py:31: FutureWarning: The module is deprecated in version 0.21 and will be removed in version 0.23 since we've dropped support for Python 2.7. Please rely on the official version of six (https://pypi.org/project/six/).\n",
      "  \"(https://pypi.org/project/six/).\", FutureWarning)\n",
      "/usr/local/lib/python3.6/dist-packages/sklearn/utils/deprecation.py:144: FutureWarning: The sklearn.neighbors.base module is  deprecated in version 0.22 and will be removed in version 0.24. The corresponding classes / functions should instead be imported from sklearn.neighbors. Anything that cannot be imported from sklearn.neighbors is now part of the private API.\n",
      "  warnings.warn(message, FutureWarning)\n"
     ]
    }
   ],
   "source": [
    "from imblearn.over_sampling import RandomOverSampler\n"
   ]
  },
  {
   "cell_type": "code",
   "execution_count": 15,
   "metadata": {
    "colab": {
     "base_uri": "https://localhost:8080/",
     "height": 107
    },
    "executionInfo": {
     "elapsed": 928,
     "status": "ok",
     "timestamp": 1603286511949,
     "user": {
      "displayName": "JOEL BRAGANZA",
      "photoUrl": "https://lh3.googleusercontent.com/a-/AOh14GiCqGBF0-DSW3pXhRCQksIWmS9Sn3pZ-f1QY6NjaA=s64",
      "userId": "05558119475177792340"
     },
     "user_tz": -330
    },
    "id": "zXJGfGQPN6kl",
    "outputId": "de8c999b-c772-4e87-da85-c97fa4156c6b"
   },
   "outputs": [
    {
     "name": "stdout",
     "output_type": "stream",
     "text": [
      "The number of classes before fit Counter({0: 199017, 1: 347})\n",
      "The number of classes after fit Counter({0: 199017, 1: 199017})\n"
     ]
    },
    {
     "name": "stderr",
     "output_type": "stream",
     "text": [
      "/usr/local/lib/python3.6/dist-packages/sklearn/utils/deprecation.py:87: FutureWarning: Function safe_indexing is deprecated; safe_indexing is deprecated in version 0.22 and will be removed in version 0.24.\n",
      "  warnings.warn(msg, category=FutureWarning)\n"
     ]
    }
   ],
   "source": [
    "os=RandomOverSampler(1)\n",
    "X_train_os,y_train_os = os.fit_sample(X_train,y_train)\n",
    "print(\"The number of classes before fit {}\".format(Counter(y_train)))\n",
    "print(\"The number of classes after fit {}\".format(Counter(y_train_os)))"
   ]
  },
  {
   "cell_type": "markdown",
   "metadata": {},
   "source": [
    "We can see the data is now balanced."
   ]
  },
  {
   "cell_type": "code",
   "execution_count": 16,
   "metadata": {
    "colab": {
     "base_uri": "https://localhost:8080/",
     "height": 70
    },
    "executionInfo": {
     "elapsed": 1498,
     "status": "ok",
     "timestamp": 1603286517373,
     "user": {
      "displayName": "JOEL BRAGANZA",
      "photoUrl": "https://lh3.googleusercontent.com/a-/AOh14GiCqGBF0-DSW3pXhRCQksIWmS9Sn3pZ-f1QY6NjaA=s64",
      "userId": "05558119475177792340"
     },
     "user_tz": -330
    },
    "id": "FLliNUyfOV5b",
    "outputId": "1b363b8c-ecdb-4d7c-e987-9020c389141c"
   },
   "outputs": [
    {
     "name": "stdout",
     "output_type": "stream",
     "text": [
      "training data:  (398034, 30) (398034,)\n",
      "testing data:  (85443, 30) (85443,)\n",
      "Duplicates in the over-sampled data:  199252\n"
     ]
    }
   ],
   "source": [
    "print ('training data: ',X_train_os.shape, y_train_os.shape)\n",
    "print ('testing data: ',X_test.shape, y_test.shape)\n",
    "df_X = pd.DataFrame(data=X_train_os)\n",
    "print ('Duplicates in the over-sampled data: ',len(df_X[df_X.duplicated(keep='last')]))"
   ]
  },
  {
   "cell_type": "markdown",
   "metadata": {},
   "source": [
    "Let's define a function to print out all the needed error-metrics."
   ]
  },
  {
   "cell_type": "code",
   "execution_count": 17,
   "metadata": {
    "executionInfo": {
     "elapsed": 1454,
     "status": "ok",
     "timestamp": 1603286521897,
     "user": {
      "displayName": "JOEL BRAGANZA",
      "photoUrl": "https://lh3.googleusercontent.com/a-/AOh14GiCqGBF0-DSW3pXhRCQksIWmS9Sn3pZ-f1QY6NjaA=s64",
      "userId": "05558119475177792340"
     },
     "user_tz": -330
    },
    "id": "205QDze1NuNS"
   },
   "outputs": [],
   "source": [
    "from sklearn.metrics import accuracy_score,confusion_matrix,classification_report\n",
    "\n",
    "def error_metric(y_true,y_preds):\n",
    "    CM = pd.crosstab(y_true,y_preds) # the confusion matrix\n",
    "    TN = CM.iloc[0,0]\n",
    "    FN = CM.iloc[1,0]\n",
    "    TP = CM.iloc[1,1]\n",
    "    FP = CM.iloc[0,1]\n",
    "    print (classification_report(y_true, y_preds))\n",
    "    print (confusion_matrix(y_true,y_preds))\n",
    "    print ('accuracy score: ',accuracy_score(y_true, y_preds)*100,'%') #check accuracy of model\n",
    "    print ('False-Negative-Rate: ',(FN*100)/(FN+TP),'%') #False Negative rate \n",
    "    print ('true-positive-rate: ',((TP)*100)/(TP+FN),'%')"
   ]
  },
  {
   "cell_type": "markdown",
   "metadata": {},
   "source": [
    "Define a function to plot the ROC/AUC"
   ]
  },
  {
   "cell_type": "code",
   "execution_count": 24,
   "metadata": {
    "executionInfo": {
     "elapsed": 917,
     "status": "ok",
     "timestamp": 1603286642428,
     "user": {
      "displayName": "JOEL BRAGANZA",
      "photoUrl": "https://lh3.googleusercontent.com/a-/AOh14GiCqGBF0-DSW3pXhRCQksIWmS9Sn3pZ-f1QY6NjaA=s64",
      "userId": "05558119475177792340"
     },
     "user_tz": -330
    },
    "id": "SLI4EX4Blii5"
   },
   "outputs": [],
   "source": [
    "from sklearn.metrics import roc_curve, auc, roc_auc_score\n",
    "from matplotlib import pyplot as plt\n",
    "\n",
    "def plotRocAuc(fpr, tpr, thresholds,score):\n",
    "       \n",
    "    # Plot the \"dumb model\" line\n",
    "    plt.plot([0, 1], [0, 1], linestyle='--')\n",
    "    \n",
    "    # Plot the model line\n",
    "    plt.plot(fpr, tpr, marker='.')\n",
    "    plt.text(0.75, 0.25, \"AUC: \" + str(round(score,2)))\n",
    "    \n",
    "    # show the plot\n",
    "    plt.show()"
   ]
  },
  {
   "cell_type": "markdown",
   "metadata": {},
   "source": [
    "### DecisionTree Classifier"
   ]
  },
  {
   "cell_type": "code",
   "execution_count": 25,
   "metadata": {
    "colab": {
     "base_uri": "https://localhost:8080/",
     "height": 531
    },
    "executionInfo": {
     "elapsed": 10996,
     "status": "ok",
     "timestamp": 1603286943109,
     "user": {
      "displayName": "JOEL BRAGANZA",
      "photoUrl": "https://lh3.googleusercontent.com/a-/AOh14GiCqGBF0-DSW3pXhRCQksIWmS9Sn3pZ-f1QY6NjaA=s64",
      "userId": "05558119475177792340"
     },
     "user_tz": -330
    },
    "id": "3iNxS5YVNuNZ",
    "outputId": "33fe2bb6-8778-4ad6-f090-5860029bba18"
   },
   "outputs": [
    {
     "name": "stdout",
     "output_type": "stream",
     "text": [
      "              precision    recall  f1-score   support\n",
      "\n",
      "           0       1.00      1.00      1.00     85298\n",
      "           1       0.72      0.58      0.64       145\n",
      "\n",
      "    accuracy                           1.00     85443\n",
      "   macro avg       0.86      0.79      0.82     85443\n",
      "weighted avg       1.00      1.00      1.00     85443\n",
      "\n",
      "[[85265    33]\n",
      " [   61    84]]\n",
      "accuracy score:  99.8899851362897 %\n",
      "False-Negative-Rate:  42.06896551724138 %\n",
      "true-positive-rate:  57.93103448275862 %\n",
      "None\n"
     ]
    },
    {
     "data": {
      "image/png": "[encoded data removed]",
      "text/plain": [
       "<Figure size 432x288 with 1 Axes>"
      ]
     },
     "metadata": {
      "needs_background": "light",
      "tags": []
     },
     "output_type": "display_data"
    }
   ],
   "source": [
    "from sklearn.tree import DecisionTreeClassifier\n",
    "DT_model = DecisionTreeClassifier(criterion='entropy').fit(X_train_os,y_train_os)\n",
    "DT_preds = DT_model.predict_proba(X_test)\n",
    "print(error_metric(y_test,np.round(DT_preds[:,1])))\n",
    "DT_fpr, DT_tpr, DT_thresholds = roc_curve(y_test, DT_preds[:,1])\n",
    "DT_score = roc_auc_score(y_test, DT_preds[:,1])\n",
    "plotRocAuc(DT_fpr, DT_tpr, DT_thresholds,DT_score)\n"
   ]
  },
  {
   "cell_type": "markdown",
   "metadata": {},
   "source": [
    "### RandomForest Classifier"
   ]
  },
  {
   "cell_type": "code",
   "execution_count": 27,
   "metadata": {
    "colab": {
     "base_uri": "https://localhost:8080/",
     "height": 513
    },
    "executionInfo": {
     "elapsed": 105372,
     "status": "ok",
     "timestamp": 1603287069551,
     "user": {
      "displayName": "JOEL BRAGANZA",
      "photoUrl": "https://lh3.googleusercontent.com/a-/AOh14GiCqGBF0-DSW3pXhRCQksIWmS9Sn3pZ-f1QY6NjaA=s64",
      "userId": "05558119475177792340"
     },
     "user_tz": -330
    },
    "id": "bgoeNpZF568Y",
    "outputId": "539b69bc-f908-4a56-e6d9-3e2602a11415"
   },
   "outputs": [
    {
     "name": "stdout",
     "output_type": "stream",
     "text": [
      "              precision    recall  f1-score   support\n",
      "\n",
      "           0       1.00      1.00      1.00     85298\n",
      "           1       0.98      0.66      0.79       145\n",
      "\n",
      "    accuracy                           1.00     85443\n",
      "   macro avg       0.99      0.83      0.89     85443\n",
      "weighted avg       1.00      1.00      1.00     85443\n",
      "\n",
      "[[85296     2]\n",
      " [   50    95]]\n",
      "accuracy score:  99.93914071369217 %\n",
      "False-Negative-Rate:  34.48275862068966 %\n",
      "true-positive-rate:  65.51724137931035 %\n"
     ]
    },
    {
     "data": {
      "image/png": "[encoded data removed]",
      "text/plain": [
       "<Figure size 432x288 with 1 Axes>"
      ]
     },
     "metadata": {
      "needs_background": "light",
      "tags": []
     },
     "output_type": "display_data"
    }
   ],
   "source": [
    "from sklearn.ensemble import RandomForestClassifier\n",
    "RF_model = RandomForestClassifier(n_estimators=100).fit(X_train_os,y_train_os)\n",
    "RF_preds = RF_model.predict_proba(X_test)\n",
    "error_metric(y_test,np.round(RF_preds[:,1]))\n",
    "RF_fpr,RF_tpr,RF_thresholds = roc_curve(y_test,RF_preds[:,1])\n",
    "RF_score = roc_auc_score(y_test, RF_preds[:,1])\n",
    "plotRocAuc(RF_fpr, RF_tpr, RF_thresholds, RF_score)"
   ]
  },
  {
   "cell_type": "markdown",
   "metadata": {},
   "source": [
    "### Logistic Regression"
   ]
  },
  {
   "cell_type": "code",
   "execution_count": 30,
   "metadata": {
    "colab": {
     "base_uri": "https://localhost:8080/",
     "height": 531
    },
    "executionInfo": {
     "elapsed": 6785,
     "status": "ok",
     "timestamp": 1603287131794,
     "user": {
      "displayName": "JOEL BRAGANZA",
      "photoUrl": "https://lh3.googleusercontent.com/a-/AOh14GiCqGBF0-DSW3pXhRCQksIWmS9Sn3pZ-f1QY6NjaA=s64",
      "userId": "05558119475177792340"
     },
     "user_tz": -330
    },
    "id": "l_ZjQmMUVmAq",
    "outputId": "b19e5c0d-dfc6-44bc-eb07-da63c8be2666"
   },
   "outputs": [
    {
     "name": "stdout",
     "output_type": "stream",
     "text": [
      "              precision    recall  f1-score   support\n",
      "\n",
      "           0       1.00      0.84      0.91     85298\n",
      "           1       0.01      0.71      0.01       145\n",
      "\n",
      "    accuracy                           0.84     85443\n",
      "   macro avg       0.50      0.78      0.46     85443\n",
      "weighted avg       1.00      0.84      0.91     85443\n",
      "\n",
      "[[71755 13543]\n",
      " [   42   103]]\n",
      "accuracy score:  84.10051145207916 %\n",
      "False-Negative-Rate:  28.96551724137931 %\n",
      "true-positive-rate:  71.03448275862068 %\n",
      "None\n"
     ]
    },
    {
     "data": {
      "image/png": "[encoded data removed]",
      "text/plain": [
       "<Figure size 432x288 with 1 Axes>"
      ]
     },
     "metadata": {
      "needs_background": "light",
      "tags": []
     },
     "output_type": "display_data"
    }
   ],
   "source": [
    "from sklearn.linear_model import LogisticRegression\n",
    "LR_model = LogisticRegression().fit(X_train_os, y_train_os) \n",
    "LR_preds = LR_model.predict_proba(X_test)\n",
    "print (error_metric(y_test,np.round((LR_preds)[:,1])))\n",
    "LR_fpr,LR_tpr,LR_thresholds = roc_curve(y_test,LR_preds[:,1])\n",
    "LR_score = roc_auc_score(y_test, LR_preds[:,1])\n",
    "plotRocAuc(LR_fpr, LR_tpr, LR_thresholds,LR_score)"
   ]
  },
  {
   "cell_type": "markdown",
   "metadata": {},
   "source": [
    "Let's try Logistic regression using K-fold cross validation with Grid-search <br>\n",
    "Let's see if this can bring down the False-Negative-rate any further <br>"
   ]
  },
  {
   "cell_type": "code",
   "execution_count": 31,
   "metadata": {
    "colab": {
     "base_uri": "https://localhost:8080/",
     "height": 265
    },
    "executionInfo": {
     "elapsed": 49022,
     "status": "ok",
     "timestamp": 1603287202778,
     "user": {
      "displayName": "JOEL BRAGANZA",
      "photoUrl": "https://lh3.googleusercontent.com/a-/AOh14GiCqGBF0-DSW3pXhRCQksIWmS9Sn3pZ-f1QY6NjaA=s64",
      "userId": "05558119475177792340"
     },
     "user_tz": -330
    },
    "id": "59jKzUZ_9PNt",
    "outputId": "2d584f34-f6d3-4302-96e4-7da18a783a99"
   },
   "outputs": [
    {
     "name": "stdout",
     "output_type": "stream",
     "text": [
      "              precision    recall  f1-score   support\n",
      "\n",
      "           0       1.00      0.84      0.91     85298\n",
      "           1       0.01      0.71      0.01       145\n",
      "\n",
      "    accuracy                           0.84     85443\n",
      "   macro avg       0.50      0.78      0.46     85443\n",
      "weighted avg       1.00      0.84      0.91     85443\n",
      "\n",
      "[[71760 13538]\n",
      " [   42   103]]\n",
      "accuracy score:  84.10636330653183 %\n",
      "False-Negative-Rate:  28.96551724137931 %\n",
      "true-positive-rate:  71.03448275862068 %\n"
     ]
    }
   ],
   "source": [
    "from sklearn.model_selection import KFold\n",
    "from sklearn.model_selection import GridSearchCV\n",
    "\n",
    "log_class=LogisticRegression()\n",
    "grid={'C':10.0 **np.arange(-2,3),'penalty':['l1','l2']}\n",
    "cv=KFold(n_splits=5,random_state=None,shuffle=False)\n",
    "\n",
    "clf=GridSearchCV(log_class,grid,cv=cv,n_jobs=-1,scoring='f1_macro')\n",
    "clf.fit(X_train_os,y_train_os)\n",
    "clf_preds = clf.predict(X_test)\n",
    "error_metric(y_test, clf_preds) "
   ]
  },
  {
   "cell_type": "markdown",
   "metadata": {
    "id": "CMEYIJSXXk-u"
   },
   "source": [
    "So Grid-search with k-fold cross validation gives the same result  without it in Logistic regression."
   ]
  },
  {
   "cell_type": "markdown",
   "metadata": {},
   "source": [
    "### Naive Bayes"
   ]
  },
  {
   "cell_type": "code",
   "execution_count": 32,
   "metadata": {
    "colab": {
     "base_uri": "https://localhost:8080/",
     "height": 531
    },
    "executionInfo": {
     "elapsed": 2071,
     "status": "ok",
     "timestamp": 1603287304829,
     "user": {
      "displayName": "JOEL BRAGANZA",
      "photoUrl": "https://lh3.googleusercontent.com/a-/AOh14GiCqGBF0-DSW3pXhRCQksIWmS9Sn3pZ-f1QY6NjaA=s64",
      "userId": "05558119475177792340"
     },
     "user_tz": -330
    },
    "id": "MkxVWZkDNuNn",
    "outputId": "89cd404f-6366-4e63-eb1d-d57c48a8c267"
   },
   "outputs": [
    {
     "name": "stdout",
     "output_type": "stream",
     "text": [
      "              precision    recall  f1-score   support\n",
      "\n",
      "           0       1.00      0.86      0.93     85298\n",
      "           1       0.01      0.77      0.02       145\n",
      "\n",
      "    accuracy                           0.86     85443\n",
      "   macro avg       0.50      0.82      0.47     85443\n",
      "weighted avg       1.00      0.86      0.93     85443\n",
      "\n",
      "[[73675 11623]\n",
      " [   33   112]]\n",
      "accuracy score:  86.3581568999216 %\n",
      "False-Negative-Rate:  22.75862068965517 %\n",
      "true-positive-rate:  77.24137931034483 %\n",
      "None\n"
     ]
    },
    {
     "data": {
      "image/png": "[encoded data removed]",
      "text/plain": [
       "<Figure size 432x288 with 1 Axes>"
      ]
     },
     "metadata": {
      "needs_background": "light",
      "tags": []
     },
     "output_type": "display_data"
    }
   ],
   "source": [
    "from sklearn.naive_bayes import GaussianNB\n",
    "NB_model = GaussianNB().fit(X_train_os,y_train_os)\n",
    "NB_preds = NB_model.predict_proba(X_test)\n",
    "print (error_metric(y_test,np.round((NB_preds)[:,1])))\n",
    "NB_fpr,NB_tpr,NB_thresholds = roc_curve(y_test,NB_preds[:,1])\n",
    "NB_score = roc_auc_score(y_test, NB_preds[:,1])\n",
    "plotRocAuc(NB_fpr, NB_tpr, NB_thresholds, NB_score)"
   ]
  },
  {
   "cell_type": "markdown",
   "metadata": {},
   "source": [
    "### AdaBoost Classifier"
   ]
  },
  {
   "cell_type": "code",
   "execution_count": 34,
   "metadata": {
    "colab": {
     "base_uri": "https://localhost:8080/",
     "height": 513
    },
    "executionInfo": {
     "elapsed": 67516,
     "status": "ok",
     "timestamp": 1603287465333,
     "user": {
      "displayName": "JOEL BRAGANZA",
      "photoUrl": "https://lh3.googleusercontent.com/a-/AOh14GiCqGBF0-DSW3pXhRCQksIWmS9Sn3pZ-f1QY6NjaA=s64",
      "userId": "05558119475177792340"
     },
     "user_tz": -330
    },
    "id": "aW8GYGy-jjHC",
    "outputId": "8c1d1f3b-93ec-4c60-b1d9-9b0c48f39625"
   },
   "outputs": [
    {
     "name": "stdout",
     "output_type": "stream",
     "text": [
      "              precision    recall  f1-score   support\n",
      "\n",
      "           0       1.00      0.98      0.99     85298\n",
      "           1       0.06      0.87      0.11       145\n",
      "\n",
      "    accuracy                           0.98     85443\n",
      "   macro avg       0.53      0.92      0.55     85443\n",
      "weighted avg       1.00      0.98      0.99     85443\n",
      "\n",
      "[[83196  2102]\n",
      " [   19   126]]\n",
      "accuracy score:  97.51764334117482 %\n",
      "False-Negative-Rate:  13.10344827586207 %\n",
      "true-positive-rate:  86.89655172413794 %\n"
     ]
    },
    {
     "data": {
      "image/png": "[encoded data removed]",
      "text/plain": [
       "<Figure size 432x288 with 1 Axes>"
      ]
     },
     "metadata": {
      "needs_background": "light",
      "tags": []
     },
     "output_type": "display_data"
    }
   ],
   "source": [
    "from sklearn.ensemble import AdaBoostClassifier\n",
    "ada_classifier=AdaBoostClassifier().fit(X_train_os, y_train_os)\n",
    "ADA_preds = ada_classifier.predict_proba(X_test)\n",
    "ADA_fpr, ADA_tpr, ADA_thresholds = roc_curve(y_test, ADA_preds[:,1])\n",
    "ADA_score = roc_auc_score(y_test, ADA_preds[:,1])\n",
    "error_metric(y_test,np.round(ADA_preds[:,1]))\n",
    "plotRocAuc(ADA_fpr, ADA_tpr, ADA_thresholds, ADA_score)"
   ]
  },
  {
   "cell_type": "markdown",
   "metadata": {},
   "source": [
    "### Deep-Learning."
   ]
  },
  {
   "cell_type": "markdown",
   "metadata": {},
   "source": [
    "Let's apply deep-learning using Keras."
   ]
  },
  {
   "cell_type": "code",
   "execution_count": 35,
   "metadata": {
    "executionInfo": {
     "elapsed": 2173,
     "status": "ok",
     "timestamp": 1603287536760,
     "user": {
      "displayName": "JOEL BRAGANZA",
      "photoUrl": "https://lh3.googleusercontent.com/a-/AOh14GiCqGBF0-DSW3pXhRCQksIWmS9Sn3pZ-f1QY6NjaA=s64",
      "userId": "05558119475177792340"
     },
     "user_tz": -330
    },
    "id": "Y6tftBMLNuNt"
   },
   "outputs": [],
   "source": [
    "from keras import models\n",
    "from keras import layers\n",
    "\n",
    "def build_model():\n",
    "    model = models.Sequential()\n",
    "    model.add(layers.Dense(64, activation='sigmoid', input_shape=(df_X.shape[1],)))\n",
    "    model.add(layers.Dense(64, activation='sigmoid'))\n",
    "    model.add(layers.Dense(1, activation='sigmoid')) # because of multi-class labels\n",
    "    # defining the optimizer and loss and accuracy parameters\n",
    "    model.compile(optimizer='rmsprop',loss='binary_crossentropy',metrics=['accuracy'])\n",
    "    return model\n",
    "\n"
   ]
  },
  {
   "cell_type": "markdown",
   "metadata": {},
   "source": [
    "Testing how the individual model with sampLe parameters scores on test data."
   ]
  },
  {
   "cell_type": "code",
   "execution_count": 36,
   "metadata": {
    "colab": {
     "base_uri": "https://localhost:8080/",
     "height": 230
    },
    "executionInfo": {
     "elapsed": 74413,
     "status": "ok",
     "timestamp": 1603287614403,
     "user": {
      "displayName": "JOEL BRAGANZA",
      "photoUrl": "https://lh3.googleusercontent.com/a-/AOh14GiCqGBF0-DSW3pXhRCQksIWmS9Sn3pZ-f1QY6NjaA=s64",
      "userId": "05558119475177792340"
     },
     "user_tz": -330
    },
    "id": "xfo0kcorNuNw",
    "outputId": "4cf5d805-aedc-4cc0-ad25-5afb711cbb70"
   },
   "outputs": [
    {
     "name": "stdout",
     "output_type": "stream",
     "text": [
      "(278623, 30) (278623,)\n",
      "(119411, 30) (119411,)\n",
      "Epoch 1/5\n",
      "4354/4354 [==============================] - 13s 3ms/step - loss: 0.4857 - accuracy: 0.7599 - val_loss: 0.4517 - val_accuracy: 0.7828\n",
      "Epoch 2/5\n",
      "4354/4354 [==============================] - 13s 3ms/step - loss: 0.4517 - accuracy: 0.7880 - val_loss: 0.4474 - val_accuracy: 0.7946\n",
      "Epoch 3/5\n",
      "4354/4354 [==============================] - 13s 3ms/step - loss: 0.4407 - accuracy: 0.7982 - val_loss: 0.4469 - val_accuracy: 0.7848\n",
      "Epoch 4/5\n",
      "4354/4354 [==============================] - 13s 3ms/step - loss: 0.4102 - accuracy: 0.8197 - val_loss: 0.3904 - val_accuracy: 0.8312\n",
      "Epoch 5/5\n",
      "4354/4354 [==============================] - 13s 3ms/step - loss: 0.3628 - accuracy: 0.8419 - val_loss: 0.3309 - val_accuracy: 0.8614\n"
     ]
    }
   ],
   "source": [
    "X_train_os2, x_val, y_train_os2, y_val = train_test_split(X_train_os,y_train_os,train_size=0.7)\n",
    "print (X_train_os2.shape, y_train_os2.shape)\n",
    "print (x_val.shape,y_val.shape)\n",
    "model = build_model()\n",
    "history = model.fit(X_train_os2, y_train_os2, batch_size=64, epochs=5, validation_data=(x_val, y_val))"
   ]
  },
  {
   "cell_type": "code",
   "execution_count": 38,
   "metadata": {
    "colab": {
     "base_uri": "https://localhost:8080/",
     "height": 863
    },
    "executionInfo": {
     "elapsed": 8634,
     "status": "ok",
     "timestamp": 1603287949286,
     "user": {
      "displayName": "JOEL BRAGANZA",
      "photoUrl": "https://lh3.googleusercontent.com/a-/AOh14GiCqGBF0-DSW3pXhRCQksIWmS9Sn3pZ-f1QY6NjaA=s64",
      "userId": "05558119475177792340"
     },
     "user_tz": -330
    },
    "id": "vIhqigQ5Nbqu",
    "outputId": "860b19f5-7ca5-414e-aa8c-310279231748"
   },
   "outputs": [
    {
     "name": "stdout",
     "output_type": "stream",
     "text": [
      "(85443, 1)\n",
      "2671/2671 [==============================] - 5s 2ms/step - loss: 0.3269 - accuracy: 0.8858\n",
      "loss :  0.3268594741821289\n",
      "accuracy :  0.8858069181442261\n"
     ]
    },
    {
     "data": {
      "image/png": "[encoded data removed]",
      "text/plain": [
       "<Figure size 432x288 with 1 Axes>"
      ]
     },
     "metadata": {
      "needs_background": "light",
      "tags": []
     },
     "output_type": "display_data"
    },
    {
     "name": "stdout",
     "output_type": "stream",
     "text": [
      "              precision    recall  f1-score   support\n",
      "\n",
      "           0       1.00      0.89      0.94     85298\n",
      "           1       0.01      0.83      0.02       145\n",
      "\n",
      "    accuracy                           0.89     85443\n",
      "   macro avg       0.51      0.86      0.48     85443\n",
      "weighted avg       1.00      0.89      0.94     85443\n",
      "\n",
      "[[75566  9732]\n",
      " [   25   120]]\n",
      "accuracy score:  88.58069122104794 %\n",
      "False-Negative-Rate:  17.24137931034483 %\n",
      "true-positive-rate:  82.75862068965517 %\n"
     ]
    },
    {
     "data": {
      "image/png": "[encoded data removed]",
      "text/plain": [
       "<Figure size 432x288 with 1 Axes>"
      ]
     },
     "metadata": {
      "needs_background": "light",
      "tags": []
     },
     "output_type": "display_data"
    }
   ],
   "source": [
    "DL_preds = model.predict_proba(X_test)\n",
    "print (DL_preds.shape)\n",
    "test_results = model.evaluate(X_test,y_test)\n",
    "for i in range(len(test_results)):\n",
    "    print (model.metrics_names[i],': ',test_results[i])\n",
    "\n",
    "DL_preds2 = [round(i[0]) for i in DL_preds]\n",
    "\n",
    "\n",
    "import matplotlib.pyplot as plt\n",
    "loss = history.history['loss']\n",
    "val_loss = history.history['val_loss']\n",
    "epochs = range(1, len(loss) + 1)\n",
    "plt.plot(epochs, loss, 'bo', label='Training loss')\n",
    "plt.plot(epochs, val_loss, 'b', label='Validation loss')\n",
    "plt.title('Training and validation loss')\n",
    "plt.xlabel('Epochs')\n",
    "plt.ylabel('Loss')\n",
    "plt.legend()\n",
    "plt.show()\n",
    "\n",
    "DL_fpr, DL_tpr, DL_thresholds = roc_curve(y_test, DL_preds)\n",
    "DL_score = roc_auc_score(y_test, DL_preds)\n",
    "error_metric(y_test,np.array(DL_preds2))\n",
    "plotRocAuc(DL_fpr, DL_tpr, DL_thresholds, DL_score)"
   ]
  },
  {
   "cell_type": "markdown",
   "metadata": {},
   "source": [
    "The important thing here is we need to penalize models with more False-Negative(sample which were fraud, but were incorrectly identified as not). <br>\n",
    "Because even if we get some False-Positives, we can look into it again and verify, but once a transaction has been identified as regular is a problem for both the bank & the customer<br>\n",
    "We still can choose a model with a better balance of both Precision(less FPs) and Recall(less FNs) i.e, F1 score. "
   ]
  },
  {
   "cell_type": "markdown",
   "metadata": {},
   "source": [
    "### Conclusion"
   ]
  },
  {
   "cell_type": "markdown",
   "metadata": {},
   "source": [
    "ADABoost classifier with the following error metrics: <br>\n",
    "accuracy score:  97.51 % <br>\n",
    "False-Negative-Rate:  13.10 % <br>\n",
    "true-positive-rate:  86.89 %  <br>\n",
    "Is a good model for this problem as it has much lower FNR and AUC & Accuracy: 97 %."
   ]
  }
 ],
 "metadata": {
  "accelerator": "GPU",
  "colab": {
   "collapsed_sections": [],
   "name": "credit card fraud detection.ipynb",
   "provenance": []
  },
  "kernelspec": {
   "display_name": "Python 3",
   "language": "python",
   "name": "python3"
  },
  "language_info": {
   "codemirror_mode": {
    "name": "ipython",
    "version": 3
   },
   "file_extension": ".py",
   "mimetype": "text/x-python",
   "name": "python",
   "nbconvert_exporter": "python",
   "pygments_lexer": "ipython3",
   "version": "3.7.2"
  }
 },
 "nbformat": 4,
 "nbformat_minor": 1
}
